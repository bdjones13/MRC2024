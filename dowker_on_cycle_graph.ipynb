{
 "cells": [
  {
   "cell_type": "code",
   "execution_count": 40,
   "id": "7b6e089b-91d6-4cda-b65e-c63a3d08f821",
   "metadata": {},
   "outputs": [],
   "source": [
    "from IPython.display import Image\n",
    "from os import chdir\n",
    "import numpy as np\n",
    "import gudhi as gd\n",
    "import matplotlib.pyplot as plt\n",
    "\n",
    "from random import  uniform\n",
    "\n",
    "import networkx as nx"
   ]
  },
  {
   "cell_type": "code",
   "execution_count": 161,
   "id": "a66bd8c4-156f-41f4-b888-6a0b729c991a",
   "metadata": {},
   "outputs": [],
   "source": [
    "N = 24;\n",
    "cycleGraph = nx.cycle_graph(N, create_using=nx.DiGraph);\n",
    "\n",
    "edges = [e for e in cycleGraph.edges]; #our list of edges\n",
    "\n",
    "#adding random weights from 0 to N*10 to edges in our cycle graph\n",
    "for e in edges:\n",
    "    source = e[0];\n",
    "    target = e[1];\n",
    "    cycleGraph[source][target]['weight'] = uniform(0, N*10);\n",
    "\n",
    "distanceMatrix = np.zeros((N, N)); #initializing a matrix full of zeros\n",
    "\n",
    "#ij-th entry in the distance matrix equals the length of shortest path from i to j\n",
    "for i in np.arange(0, N, 1):\n",
    "    for j in np.arange(0, N, 1):\n",
    "        length = nx.shortest_path_length(cycleGraph, i, j, weight='weight');\n",
    "        distanceMatrix[i, j] = length; "
   ]
  },
  {
   "cell_type": "code",
   "execution_count": 162,
   "id": "f8ef020b-2779-4182-859c-6aafe58e8013",
   "metadata": {},
   "outputs": [
    {
     "data": {
      "text/plain": [
       "array([[ 230.38940463, 1759.7810256 ]])"
      ]
     },
     "execution_count": 162,
     "metadata": {},
     "output_type": "execute_result"
    }
   ],
   "source": [
    "st = gd.SimplexTree() #create an empty simplex tree\n",
    "\n",
    "st.insert(np.arange(0,N,1))\n",
    "st_gen = st.get_filtration() \n",
    "\n",
    "for splx in st_gen:\n",
    "    simplex = splx[0];\n",
    "    functionsInSimplex = distanceMatrix[simplex, :];\n",
    "    max_values = np.max(functionsInSimplex, 0);\n",
    "    min_value = np.min(max_values, 0);\n",
    "    st.assign_filtration(simplex, filtration = min_value);\n",
    "\n",
    "#st_gen = st.get_filtration();\n",
    "\n",
    "barcode = st.persistence();\n",
    "\n",
    "#gd.plot_persistence_diagram(barcode);\n",
    "\n",
    "st.persistence_intervals_in_dimension(1)\n",
    "\n"
   ]
  },
  {
   "cell_type": "code",
   "execution_count": null,
   "id": "3877337f-cf96-4ca9-b13b-6bcf4e64eb0a",
   "metadata": {},
   "outputs": [],
   "source": []
  }
 ],
 "metadata": {
  "kernelspec": {
   "display_name": "Python 3 (ipykernel)",
   "language": "python",
   "name": "python3"
  },
  "language_info": {
   "codemirror_mode": {
    "name": "ipython",
    "version": 3
   },
   "file_extension": ".py",
   "mimetype": "text/x-python",
   "name": "python",
   "nbconvert_exporter": "python",
   "pygments_lexer": "ipython3",
   "version": "3.11.0"
  }
 },
 "nbformat": 4,
 "nbformat_minor": 5
}
