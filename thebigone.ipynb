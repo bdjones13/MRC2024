{
 "cells": [
  {
   "cell_type": "code",
   "execution_count": null,
   "metadata": {},
   "outputs": [],
   "source": [
    "# Imports\n",
    "\n",
    "import numpy as np\n",
    "import networkx as nx\n",
    "import sys\n",
    "import json\n",
    "from scipy.integrate import solve_ivp\n",
    "import pandas as pd\n",
    "import scipy\n",
    "import plotly.express as px\n",
    "from plotly.colors import label_rgb\n",
    "\n",
    "from pyDowker import DowkerComplex\n",
    "import matplotlib.pyplot as plt\n",
    "import gudhi as gd"
   ]
  },
  {
   "cell_type": "markdown",
   "metadata": {},
   "source": [
    "# Data Generation\n",
    "\n",
    "This basically uses Kristian's Github files for the time series data, and his function from the tutorial for the Lorenz dynamical system. Each of these eventually outputs a time series. "
   ]
  },
  {
   "cell_type": "code",
   "execution_count": 2,
   "metadata": {},
   "outputs": [],
   "source": [
    "#Gets the Lorenz 63 data\n",
    "\n",
    "def L63_ts():\n",
    "    data = np.load('Data/Lorenz63/lorenz_10k_raw.npy').T\n",
    "\n",
    "    return data"
   ]
  },
  {
   "cell_type": "code",
   "execution_count": 3,
   "metadata": {},
   "outputs": [],
   "source": [
    "#Gets the Lorenz 96 data\n",
    "\n",
    "def L96_ts():\n",
    "    data = np.loadtxt('Data/Lorenz96/lorenz96_raw.txt')\n",
    "\n",
    "    return data"
   ]
  },
  {
   "cell_type": "code",
   "execution_count": 4,
   "metadata": {},
   "outputs": [],
   "source": [
    "# Gets the CDV data\n",
    "\n",
    "def CDV_ts():\n",
    "\n",
    "    data= np.fromfile('Data/CDV/cdv_deterministic.np').reshape([6,-1])\n",
    "\n",
    "    return data"
   ]
  },
  {
   "cell_type": "code",
   "execution_count": 5,
   "metadata": {},
   "outputs": [],
   "source": [
    "#Gets the JetLat data\n",
    "\n",
    "def JetLat_ts():\n",
    "    lats = np.loadtxt('Data/JetLat/jetlatitude_ERA20C_djf_1901-2010.txt')\n",
    "    pc0 = np.loadtxt('Data/JetLat/pc0_ua850_ERA20C_1901-2010.txt')\n",
    "    pc1 = np.loadtxt('Data/JetLat/pc1_ua850_ERA20C_1901-2010.txt')\n",
    "\n",
    "    data = np.vstack([lats, pc0, pc1])\n",
    "    \n",
    "    return data"
   ]
  },
  {
   "cell_type": "code",
   "execution_count": 6,
   "metadata": {},
   "outputs": [],
   "source": [
    "#Gets the Gaussian distribution data\n",
    "\n",
    "def Gaussian_ts():\n",
    "    data = np.loadtxt('Data/Gaussian/gaussian_raw.txt')\n",
    "\n",
    "    return data"
   ]
  },
  {
   "cell_type": "code",
   "execution_count": 7,
   "metadata": {},
   "outputs": [],
   "source": [
    "# This is the actual system of differential equations governing the Lorenz 63 system. \n",
    "\n",
    "def lorenz63(t, xyz, sigma, rho, beta, forcing=[0,0,0]):\n",
    "    x, y, z = xyz #assign the dependent variables\n",
    "    dxdt = sigma * (y - x) + forcing[0]\n",
    "    dydt = x * (rho - z) - y + forcing[1]\n",
    "    dzdt = x * y - beta * z + forcing[2]\n",
    "    return [dxdt, dydt, dzdt]"
   ]
  },
  {
   "cell_type": "code",
   "execution_count": 8,
   "metadata": {},
   "outputs": [],
   "source": [
    "def Lorenzfunction():\n",
    "\n",
    "# Parameters for the Lorenz 63 system: these are the standard choices.\n",
    "    sigma = 10.0\n",
    "    rho = 28.0\n",
    "    beta = 8.0 / 3.0\n",
    "\n",
    "# to get the forcing function\n",
    "\n",
    "    theta = 9  # 90 degrees\n",
    "    forcing_magnitude = 4 #2.5\n",
    "    forcing = [forcing_magnitude * np.cos(np.radians(theta)),\n",
    "           forcing_magnitude * np.sin(np.radians(theta)),\n",
    "           0]\n",
    "\n",
    "\n",
    "# Define some initial condition to start at.\n",
    "    initial_conditions = [-1.0, 1.0, 0.0]\n",
    "\n",
    "# Set the timestep and the total timespan to integrate over. In this case, we integrate 50,000 timesteps\n",
    "# over a time variable ranging from 0 to 40.\n",
    "    t_span = (0, 40)\n",
    "    t_eval = np.linspace(*t_span, 50000)\n",
    "\n",
    "\n",
    "# Integrate the system using solve_ivp from scipy\n",
    "    sol = solve_ivp(lorenz63, t_span, initial_conditions, t_eval=t_eval, args=(sigma, rho, beta, forcing))\n",
    "\n",
    "    return sol.y"
   ]
  },
  {
   "cell_type": "markdown",
   "metadata": {},
   "source": [
    "# Bin the Time Series"
   ]
  },
  {
   "cell_type": "code",
   "execution_count": 9,
   "metadata": {},
   "outputs": [],
   "source": [
    "#Inputs: ts - a 2D np array of any shape. Probably a time series. \n",
    "# b - the number of bins in each dimension\n",
    "#Output: bins - A dictionary of arrays that contains the boundaries of the bins in each dimension\n",
    "\n",
    "def get_bins(ts,b):\n",
    "    d,n = ts.shape\n",
    "    bins = {}\n",
    "    for i in range(d):\n",
    "        top = max(ts[i])\n",
    "        bot = min(ts[i])\n",
    "        step = (top - bot)/b\n",
    "        ibins = []\n",
    "        for j in range(b+1):\n",
    "            ibins.append(bot+j*step)\n",
    "        bins[i] = ibins\n",
    "    return bins"
   ]
  },
  {
   "cell_type": "code",
   "execution_count": 10,
   "metadata": {},
   "outputs": [],
   "source": [
    "#Inputs: ts - time series\n",
    "#bins - the partition of each dimension into its bins\n",
    "#b - number of bins in each dimension\n",
    "\n",
    "#Output: binseq - a 1D array the length of ts that lists which bin each entry in the time series is in\n",
    "\n",
    "def bin_sequence(ts, bins, b):\n",
    "    d,n = ts.shape\n",
    "    binseq = np.zeros((n))\n",
    "    for i in range(n):\n",
    "        bin_n = 0\n",
    "        for j in range(d):\n",
    "            k = 1\n",
    "            while k <= b:\n",
    "                if ts[j,i] <= bins[j][k]:\n",
    "                    bin_n += (k-1)*(b**j)\n",
    "                    k = b + 1\n",
    "                else: \n",
    "                    k = k + 1 \n",
    "        binseq[i] = bin_n\n",
    "\n",
    "    return binseq"
   ]
  },
  {
   "cell_type": "code",
   "execution_count": 11,
   "metadata": {},
   "outputs": [],
   "source": [
    "#This function combines the splitting space into bins and the binning\n",
    "\n",
    "#Inputs: sol - a time series\n",
    "#bin_param - a number of bins in each dimension\n",
    "#Outputs: the binning sequence of the time series\n",
    "\n",
    "def bin_sol(sol, bin_param):\n",
    "    B = get_bins(sol, bin_param)\n",
    "    seq = bin_sequence(sol, B, bin_param)\n",
    "    return seq"
   ]
  },
  {
   "cell_type": "markdown",
   "metadata": {},
   "source": [
    "# Go from Bin Sequence to Graph and Matrices"
   ]
  },
  {
   "cell_type": "code",
   "execution_count": 12,
   "metadata": {},
   "outputs": [],
   "source": [
    "#inputs: bin-seq - the bin sequence of the time series\n",
    "#outputs: A - the adjacency matrix\n",
    "# vertices - the list of vertices, enumerated as bin number\n",
    "\n",
    "def adjacency(bin_seq):\n",
    "    vertices = np.unique(bin_seq)\n",
    "    order = len(vertices)\n",
    "    A = np.zeros((order,order))\n",
    "    for i in range(len(bin_seq)-1):\n",
    "        A[np.where(vertices == bin_seq[i]),np.where(vertices == bin_seq[i+1])] += 1\n",
    "    return A, vertices"
   ]
  },
  {
   "cell_type": "code",
   "execution_count": 13,
   "metadata": {},
   "outputs": [],
   "source": [
    "## inputs - the adjacency matrix\n",
    "##output - the probability markov chain matrix\n",
    "\n",
    "def prob_matrix(A):\n",
    "    P = np.zeros(A.shape)\n",
    "    for i in range(A.shape[0]):\n",
    "        P[i] = A[i]/sum(A[i])\n",
    "    \n",
    "    return P"
   ]
  },
  {
   "cell_type": "code",
   "execution_count": 14,
   "metadata": {},
   "outputs": [],
   "source": [
    "# inputs: A - the adjacency matrix\n",
    "# vertices - the list of vertices, which are the bin numbers\n",
    "# loops - whether or not to keep the self-loops in the graph, I am going to do something with this eventually when I include some sort of markovian random walk diffusion distance \n",
    "#Output: G - a networkx digraph\n",
    "\n",
    "\n",
    "def digraph(A, vertices, loops: bool):\n",
    "    if loops == False:\n",
    "        np.fill_diagonal(A,0)\n",
    "        G = nx.DiGraph(A)\n",
    "    elif loops == True:\n",
    "        G = nx.DiGraph(A)\n",
    "    for i in range(len(G.nodes)):\n",
    "       G.nodes[i]['bin'] = vertices[i]\n",
    "\n",
    "    return G"
   ]
  },
  {
   "cell_type": "code",
   "execution_count": 15,
   "metadata": {},
   "outputs": [],
   "source": [
    "#This is a combination of the previous two functions\n",
    "\n",
    "#inputs: seq - the sequence of bins for the time series\n",
    "#loops - boolean to keep the self-loops or not\n",
    "#outputs: H - the digraph!\n",
    "\n",
    "def construct_digraph(seq, loops = False):\n",
    "    A, vertices = adjacency(seq)\n",
    "    H = digraph(A,vertices,loops)\n",
    "    return H"
   ]
  },
  {
   "cell_type": "code",
   "execution_count": 16,
   "metadata": {},
   "outputs": [],
   "source": [
    "#Inputs: G - a networkx graph\n",
    "# method - the way you want to measure distance on the graph\n",
    "# Outputs: D - a distance matrix\n",
    "\n",
    "def distance_matrix(G, method = 'unweighted_shortest_path'):\n",
    "    if method == 'unweighted_shortest_path':\n",
    "        lengths = dict(nx.all_pairs_shortest_path_length(G))\n",
    "        D = np.full((len(lengths),len(lengths)),1000,dtype=float) # was -1 default\n",
    "        for key in lengths:\n",
    "            for item in lengths[key]:\n",
    "                    D[key,item] = lengths[key][item]\n",
    "    \n",
    "    if method == 'weighted_shortest_path':\n",
    "        w = nx.get_edge_attributes(G,'weight')\n",
    "        for key in w:\n",
    "            w[key] = 1/w[key]\n",
    "        nx.set_edge_attributes(G,w,name='weight')\n",
    "        lengths = dict(nx.all_pairs_dijkstra_path_length(G))\n",
    "        D = np.full((len(lengths),len(lengths)),1000,dtype=float) # was -1 default\n",
    "        for key in lengths:\n",
    "            for item in lengths[key]:\n",
    "                if lengths[key][item] != 0:\n",
    "                    D[key,item] = lengths[key][item]\n",
    "                elif lengths[key][item] == 0:\n",
    "                    D[key,item] = 0\n",
    "\n",
    "    return D"
   ]
  },
  {
   "cell_type": "markdown",
   "metadata": {},
   "source": [
    "# Work on Visualizations"
   ]
  },
  {
   "cell_type": "code",
   "execution_count": 17,
   "metadata": {},
   "outputs": [],
   "source": [
    "# function to convert a bin number into the coordinates in terms of bin number in each dimension\n",
    "# bins in form a1 b^0 + a2 b^1 + ... + an b^n for n dimensions and b=bins_per_dim. Hoping to extract {a_i}_i\n",
    "# takes as input the bin number, bin, the bins per dimension, bins_per_dim and the number of dimensions, num_of_dims\n",
    "def bin_to_axis_bins(bin, bins_per_dim, num_of_dims):\n",
    "    remainder = bin.astype(int)\n",
    "    coords = np.zeros(num_of_dims)\n",
    "    # initializes the first coordinate as the input bin number modulo number of bins per axis/dimension\n",
    "    coords[0] = bin % bins_per_dim\n",
    "    # for loop for the rest of the coordinates\n",
    "    for dim in range(1, num_of_dims):\n",
    "        # calculates the remainder by removing previously calculated coordinates\n",
    "        remainder = (remainder - coords[dim-1])/bins_per_dim\n",
    "        # checking if there's this dim has an entry to calculate\n",
    "        if remainder > 0:\n",
    "            # modulo to find the coordinate\n",
    "            coords[dim] = (remainder) % bins_per_dim  \n",
    "    \n",
    "    return coords # returning the bins along all dimensions"
   ]
  },
  {
   "cell_type": "code",
   "execution_count": 18,
   "metadata": {},
   "outputs": [],
   "source": [
    "# mapping vertices onto bins in state space\n",
    "# vert[i] is the bin of vertex i\n",
    "# want to go from bin number to axial bin identifiers\n",
    "# inputs are a graph, a number of bins, and a dimension\n",
    "\n",
    "def bin_pos(G, b=10, d=3):\n",
    "\n",
    "    pos = {}\n",
    "    vx_axis_bins = []\n",
    "    for i in G.nodes():\n",
    "        vx_axis_bins.append(bin_to_axis_bins(bin = G.nodes[i]['bin'], bins_per_dim = b, num_of_dims=d))\n",
    "        pos[i] = np.array([vx_axis_bins[i][0]-vx_axis_bins[i][2]*0.5, vx_axis_bins[i][1]]-vx_axis_bins[i][2]*0.3)\n",
    "    \n",
    "    return pos\n",
    "    "
   ]
  },
  {
   "cell_type": "code",
   "execution_count": 19,
   "metadata": {},
   "outputs": [],
   "source": [
    "# this functions takes an index for the cycle data and the digraph on which to plot\n",
    "\n",
    "def color_cycle_digraph(index, H, data):\n",
    "    color_map = ['gray']*len(H.nodes)\n",
    "    for node in data[index]:\n",
    "        color_map[node[1]] = 'red'\n",
    "        color_map[node[0]] = 'red'\n",
    "\n",
    "    return color_map\n",
    "                "
   ]
  },
  {
   "cell_type": "code",
   "execution_count": 20,
   "metadata": {},
   "outputs": [],
   "source": [
    "def color_scheme(num):\n",
    "   \n",
    "   k = int(num)\n",
    "   if k < 10:\n",
    "       string = '0' + '0' + str(k)\n",
    "   elif k < 100:\n",
    "       string = '0' + str(k)\n",
    "   else:\n",
    "       string = str(k)\n",
    "   as_list = [float(x)/10 * 255 for x in string]\n",
    "\n",
    "   return as_list"
   ]
  },
  {
   "cell_type": "code",
   "execution_count": 21,
   "metadata": {},
   "outputs": [],
   "source": [
    "def cycle_color_seq(index, H, data, bin_seq):\n",
    "    color_bins = []\n",
    "    for pair in data[index]:\n",
    "        color_bins.append(H.nodes[pair[0]]['bin'])\n",
    "        color_bins.append(H.nodes[pair[1]]['bin'])\n",
    "\n",
    "    color_seq = [x if x in color_bins else 1 for x in bin_seq]\n",
    "    #eventually need to get rgb color here, but somehow just for cycle\n",
    "    colors = [label_rgb(color_scheme(x)) for x in color_seq]\n",
    "\n",
    "    return colors"
   ]
  },
  {
   "cell_type": "code",
   "execution_count": 22,
   "metadata": {},
   "outputs": [],
   "source": [
    "def color_seq(bin_seq):\n",
    "\n",
    "    color_seq = [color_scheme(x) for x in bin_seq]\n",
    "    colors = [label_rgb(x) for x in color_seq]\n",
    "\n",
    "    return colors"
   ]
  },
  {
   "cell_type": "code",
   "execution_count": 23,
   "metadata": {},
   "outputs": [],
   "source": [
    "# plot 3D phase space, colored by bin\n",
    "# Inputs: ts - the time series in 3 dimensions\n",
    "# Outputs: a plotly figure, you'll need to add fig.show() probably\n",
    "\n",
    "def plot_phase_space_3d(ts, colors):\n",
    "\n",
    "    fig = px.scatter_3d(x = ts[0], y = ts[1], z = ts[2], color=colors)\n",
    "    fig.update_traces(marker=dict(size=1))\n",
    "    \n",
    "    return fig"
   ]
  },
  {
   "cell_type": "markdown",
   "metadata": {},
   "source": [
    "# Interpreting JSON file that has generators"
   ]
  },
  {
   "cell_type": "code",
   "execution_count": 24,
   "metadata": {},
   "outputs": [],
   "source": [
    "# Load json file\n",
    "\n",
    "def process_json(fname: str):\n",
    "\n",
    "    f = open(fname)\n",
    "    data = json.load(f)\n",
    "    new_data = []\n",
    "    for gen_seq in data:\n",
    "        new_gen_seq = []\n",
    "        for gen in gen_seq:\n",
    "            newgen = [int(x)-1 for x in gen]\n",
    "            new_gen_seq.append(newgen)\n",
    "        new_data.append(new_gen_seq)\n",
    "\n",
    "    return new_data"
   ]
  },
  {
   "cell_type": "markdown",
   "metadata": {},
   "source": [
    "# Testing "
   ]
  },
  {
   "cell_type": "code",
   "execution_count": 25,
   "metadata": {},
   "outputs": [],
   "source": [
    "data = Lorenzfunction()"
   ]
  },
  {
   "cell_type": "code",
   "execution_count": 26,
   "metadata": {},
   "outputs": [
    {
     "data": {
      "text/plain": [
       "array([[-1.00000000e+00, -9.81005423e-01, -9.62339546e-01, ...,\n",
       "         5.86185955e+00,  5.87661803e+00,  5.89149794e+00],\n",
       "       [ 1.00000000e+00,  9.77522209e-01,  9.55483420e-01, ...,\n",
       "         7.30371183e+00,  7.33377929e+00,  7.36395688e+00],\n",
       "       [ 0.00000000e+00, -7.82648490e-04, -1.53146919e-03, ...,\n",
       "         2.04602500e+01,  2.04509754e+01,  2.04419490e+01]])"
      ]
     },
     "execution_count": 26,
     "metadata": {},
     "output_type": "execute_result"
    }
   ],
   "source": [
    "data"
   ]
  },
  {
   "cell_type": "code",
   "execution_count": 27,
   "metadata": {},
   "outputs": [],
   "source": [
    "bin_seq = bin_sol(data,10)"
   ]
  },
  {
   "cell_type": "code",
   "execution_count": 28,
   "metadata": {},
   "outputs": [],
   "source": [
    "A = adjacency(bin_seq)[0]"
   ]
  },
  {
   "cell_type": "code",
   "execution_count": 29,
   "metadata": {},
   "outputs": [
    {
     "data": {
      "text/plain": [
       "186"
      ]
     },
     "execution_count": 29,
     "metadata": {},
     "output_type": "execute_result"
    }
   ],
   "source": [
    "A.shape[0]"
   ]
  },
  {
   "cell_type": "code",
   "execution_count": 30,
   "metadata": {},
   "outputs": [
    {
     "data": {
      "text/plain": [
       "array([[0.99669967, 0.00330033, 0.        , ..., 0.        , 0.        ,\n",
       "        0.        ],\n",
       "       [0.        , 0.94736842, 0.05263158, ..., 0.        , 0.        ,\n",
       "        0.        ],\n",
       "       [0.        , 0.        , 0.99099099, ..., 0.        , 0.        ,\n",
       "        0.        ],\n",
       "       ...,\n",
       "       [0.        , 0.        , 0.        , ..., 0.94117647, 0.        ,\n",
       "        0.        ],\n",
       "       [0.        , 0.        , 0.        , ..., 0.05882353, 0.94117647,\n",
       "        0.        ],\n",
       "       [0.        , 0.        , 0.        , ..., 0.        , 0.11111111,\n",
       "        0.88888889]])"
      ]
     },
     "execution_count": 30,
     "metadata": {},
     "output_type": "execute_result"
    }
   ],
   "source": [
    "prob_matrix(A)"
   ]
  },
  {
   "cell_type": "code",
   "execution_count": 31,
   "metadata": {},
   "outputs": [],
   "source": [
    "B = np.zeros(A.shape)"
   ]
  },
  {
   "cell_type": "code",
   "execution_count": 32,
   "metadata": {},
   "outputs": [],
   "source": [
    "for i in range(len(A)):\n",
    "    B[i] = A[i]/sum(A[i])"
   ]
  },
  {
   "cell_type": "code",
   "execution_count": 33,
   "metadata": {},
   "outputs": [
    {
     "data": {
      "text/plain": [
       "array([[0.99669967, 0.00330033, 0.        , ..., 0.        , 0.        ,\n",
       "        0.        ],\n",
       "       [0.        , 0.94736842, 0.05263158, ..., 0.        , 0.        ,\n",
       "        0.        ],\n",
       "       [0.        , 0.        , 0.99099099, ..., 0.        , 0.        ,\n",
       "        0.        ],\n",
       "       ...,\n",
       "       [0.        , 0.        , 0.        , ..., 0.94117647, 0.        ,\n",
       "        0.        ],\n",
       "       [0.        , 0.        , 0.        , ..., 0.05882353, 0.94117647,\n",
       "        0.        ],\n",
       "       [0.        , 0.        , 0.        , ..., 0.        , 0.11111111,\n",
       "        0.88888889]])"
      ]
     },
     "execution_count": 33,
     "metadata": {},
     "output_type": "execute_result"
    }
   ],
   "source": [
    "B"
   ]
  },
  {
   "cell_type": "code",
   "execution_count": 36,
   "metadata": {},
   "outputs": [
    {
     "name": "stdout",
     "output_type": "stream",
     "text": [
      "(186, 186)\n",
      "[[   0.    1.    2. ...   22.   21.   20.]\n",
      " [1000.    0.    1. ...   21.   20.   19.]\n",
      " [1000. 1000.    0. ...   20.   19.   18.]\n",
      " ...\n",
      " [1000. 1000. 1000. ...    0. 1000. 1000.]\n",
      " [1000. 1000. 1000. ...    1.    0. 1000.]\n",
      " [1000. 1000. 1000. ...    2.    1.    0.]]\n"
     ]
    }
   ],
   "source": [
    "G = construct_digraph(bin_seq)\n",
    "D = distance_matrix(G)\n",
    "print(D.shape)\n",
    "print(D)"
   ]
  },
  {
   "cell_type": "markdown",
   "metadata": {},
   "source": [
    "# Use pyDowker instead of MATLAB now"
   ]
  },
  {
   "cell_type": "code",
   "execution_count": null,
   "metadata": {},
   "outputs": [
    {
     "data": {
      "image/png": "[encoded data removed]",
      "text/plain": [
       "<Figure size 640x480 with 1 Axes>"
      ]
     },
     "metadata": {},
     "output_type": "display_data"
    },
    {
     "name": "stdout",
     "output_type": "stream",
     "text": [
      "Bars:  [(1, (1.0, 6.0)), (1, (1.0, 5.0)), (1, (1.0, 4.0)), (1, (1.0, 4.0)), (1, (1.0, 3.0)), (1, (1.0, 3.0)), (1, (1.0, 3.0)), (1, (1.0, 3.0)), (1, (1.0, 3.0)), (1, (1.0, 3.0)), (1, (1.0, 3.0)), (1, (1.0, 3.0)), (1, (1.0, 3.0)), (1, (1.0, 3.0)), (1, (1.0, 2.0)), (1, (1.0, 2.0)), (1, (1.0, 2.0)), (1, (1.0, 2.0)), (1, (1.0, 2.0)), (1, (1.0, 2.0)), (1, (1.0, 2.0)), (1, (1.0, 2.0)), (1, (1.0, 2.0)), (1, (1.0, 2.0)), (1, (1.0, 2.0)), (1, (1.0, 2.0)), (1, (1.0, 2.0)), (1, (1.0, 2.0)), (1, (1.0, 2.0)), (1, (1.0, 2.0)), (1, (1.0, 2.0)), (1, (1.0, 2.0)), (1, (1.0, 2.0)), (1, (1.0, 2.0)), (1, (1.0, 2.0)), (1, (1.0, 2.0)), (1, (1.0, 2.0)), (1, (1.0, 2.0)), (1, (1.0, 2.0)), (1, (1.0, 2.0)), (1, (1.0, 2.0)), (1, (1.0, 2.0)), (1, (1.0, 2.0)), (1, (1.0, 2.0)), (1, (1.0, 2.0)), (1, (1.0, 2.0)), (1, (1.0, 2.0)), (1, (1.0, 2.0)), (1, (1.0, 2.0)), (1, (1.0, 2.0)), (1, (1.0, 2.0)), (1, (1.0, 2.0)), (1, (1.0, 2.0)), (1, (1.0, 2.0)), (1, (1.0, 2.0)), (1, (1.0, 2.0)), (1, (1.0, 2.0)), (1, (1.0, 2.0)), (1, (1.0, 2.0)), (1, (1.0, 2.0)), (1, (1.0, 2.0)), (1, (1.0, 2.0)), (1, (1.0, 2.0)), (1, (1.0, 2.0)), (1, (1.0, 2.0)), (1, (1.0, 2.0)), (1, (1.0, 2.0)), (1, (1.0, 2.0)), (1, (1.0, 2.0)), (1, (1.0, 2.0)), (1, (1.0, 2.0)), (1, (1.0, 2.0)), (1, (1.0, 2.0)), (1, (1.0, 2.0)), (1, (1.0, 2.0)), (1, (1.0, 2.0)), (1, (1.0, 2.0)), (1, (1.0, 2.0)), (1, (1.0, 2.0)), (1, (1.0, 2.0)), (1, (1.0, 2.0)), (1, (1.0, 2.0)), (1, (1.0, 2.0)), (1, (1.0, 2.0)), (1, (1.0, 2.0)), (0, (0.0, inf)), (0, (0.0, 1.0)), (0, (0.0, 1.0)), (0, (0.0, 1.0)), (0, (0.0, 1.0)), (0, (0.0, 1.0)), (0, (0.0, 1.0)), (0, (0.0, 1.0)), (0, (0.0, 1.0)), (0, (0.0, 1.0)), (0, (0.0, 1.0)), (0, (0.0, 1.0)), (0, (0.0, 1.0)), (0, (0.0, 1.0)), (0, (0.0, 1.0)), (0, (0.0, 1.0)), (0, (0.0, 1.0)), (0, (0.0, 1.0)), (0, (0.0, 1.0)), (0, (0.0, 1.0)), (0, (0.0, 1.0)), (0, (0.0, 1.0)), (0, (0.0, 1.0)), (0, (0.0, 1.0)), (0, (0.0, 1.0)), (0, (0.0, 1.0)), (0, (0.0, 1.0)), (0, (0.0, 1.0)), (0, (0.0, 1.0)), (0, (0.0, 1.0)), (0, (0.0, 1.0)), (0, (0.0, 1.0)), (0, (0.0, 1.0)), (0, (0.0, 1.0)), (0, (0.0, 1.0)), (0, (0.0, 1.0)), (0, (0.0, 1.0)), (0, (0.0, 1.0)), (0, (0.0, 1.0)), (0, (0.0, 1.0)), (0, (0.0, 1.0)), (0, (0.0, 1.0)), (0, (0.0, 1.0)), (0, (0.0, 1.0)), (0, (0.0, 1.0)), (0, (0.0, 1.0)), (0, (0.0, 1.0)), (0, (0.0, 1.0)), (0, (0.0, 1.0)), (0, (0.0, 1.0)), (0, (0.0, 1.0)), (0, (0.0, 1.0)), (0, (0.0, 1.0)), (0, (0.0, 1.0)), (0, (0.0, 1.0)), (0, (0.0, 1.0)), (0, (0.0, 1.0)), (0, (0.0, 1.0)), (0, (0.0, 1.0)), (0, (0.0, 1.0)), (0, (0.0, 1.0)), (0, (0.0, 1.0)), (0, (0.0, 1.0)), (0, (0.0, 1.0)), (0, (0.0, 1.0)), (0, (0.0, 1.0)), (0, (0.0, 1.0)), (0, (0.0, 1.0)), (0, (0.0, 1.0)), (0, (0.0, 1.0)), (0, (0.0, 1.0)), (0, (0.0, 1.0)), (0, (0.0, 1.0)), (0, (0.0, 1.0)), (0, (0.0, 1.0)), (0, (0.0, 1.0)), (0, (0.0, 1.0)), (0, (0.0, 1.0)), (0, (0.0, 1.0)), (0, (0.0, 1.0)), (0, (0.0, 1.0)), (0, (0.0, 1.0)), (0, (0.0, 1.0)), (0, (0.0, 1.0)), (0, (0.0, 1.0)), (0, (0.0, 1.0)), (0, (0.0, 1.0)), (0, (0.0, 1.0)), (0, (0.0, 1.0)), (0, (0.0, 1.0)), (0, (0.0, 1.0)), (0, (0.0, 1.0)), (0, (0.0, 1.0)), (0, (0.0, 1.0)), (0, (0.0, 1.0)), (0, (0.0, 1.0)), (0, (0.0, 1.0)), (0, (0.0, 1.0)), (0, (0.0, 1.0)), (0, (0.0, 1.0)), (0, (0.0, 1.0)), (0, (0.0, 1.0)), (0, (0.0, 1.0)), (0, (0.0, 1.0)), (0, (0.0, 1.0)), (0, (0.0, 1.0)), (0, (0.0, 1.0)), (0, (0.0, 1.0)), (0, (0.0, 1.0)), (0, (0.0, 1.0)), (0, (0.0, 1.0)), (0, (0.0, 1.0)), (0, (0.0, 1.0)), (0, (0.0, 1.0)), (0, (0.0, 1.0)), (0, (0.0, 1.0)), (0, (0.0, 1.0)), (0, (0.0, 1.0)), (0, (0.0, 1.0)), (0, (0.0, 1.0)), (0, (0.0, 1.0)), (0, (0.0, 1.0)), (0, (0.0, 1.0)), (0, (0.0, 1.0)), (0, (0.0, 1.0)), (0, (0.0, 1.0)), (0, (0.0, 1.0)), (0, (0.0, 1.0)), (0, (0.0, 1.0)), (0, (0.0, 1.0)), (0, (0.0, 1.0)), (0, (0.0, 1.0)), (0, (0.0, 1.0)), (0, (0.0, 1.0)), (0, (0.0, 1.0)), (0, (0.0, 1.0)), (0, (0.0, 1.0)), (0, (0.0, 1.0)), (0, (0.0, 1.0)), (0, (0.0, 1.0)), (0, (0.0, 1.0)), (0, (0.0, 1.0)), (0, (0.0, 1.0)), (0, (0.0, 1.0)), (0, (0.0, 1.0)), (0, (0.0, 1.0)), (0, (0.0, 1.0)), (0, (0.0, 1.0)), (0, (0.0, 1.0)), (0, (0.0, 1.0)), (0, (0.0, 1.0)), (0, (0.0, 1.0)), (0, (0.0, 1.0)), (0, (0.0, 1.0)), (0, (0.0, 1.0)), (0, (0.0, 1.0)), (0, (0.0, 1.0)), (0, (0.0, 1.0)), (0, (0.0, 1.0)), (0, (0.0, 1.0)), (0, (0.0, 1.0)), (0, (0.0, 1.0)), (0, (0.0, 1.0)), (0, (0.0, 1.0)), (0, (0.0, 1.0)), (0, (0.0, 1.0)), (0, (0.0, 1.0)), (0, (0.0, 1.0)), (0, (0.0, 1.0)), (0, (0.0, 1.0)), (0, (0.0, 1.0)), (0, (0.0, 1.0)), (0, (0.0, 1.0)), (0, (0.0, 1.0)), (0, (0.0, 1.0)), (0, (0.0, 1.0)), (0, (0.0, 1.0)), (0, (0.0, 1.0)), (0, (0.0, 1.0)), (0, (0.0, 1.0)), (0, (0.0, 1.0)), (0, (0.0, 1.0)), (0, (0.0, 1.0)), (0, (0.0, 1.0)), (0, (0.0, 1.0)), (0, (0.0, 1.0))]\n"
     ]
    }
   ],
   "source": [
    "MNeighbor = DowkerComplex.DowkerComplex(D).create_simplex_tree(filtration='Sublevel', max_dimension=2)\n",
    "dgms = MNeighbor.persistence()\n",
    "f,ax = plt.subplots()\n",
    "gd.plot_persistence_diagram(dgms, axes=ax)\n",
    "plt.show()\n",
    "\n",
    "print(\"Bars: \",dgms)"
   ]
  },
  {
   "cell_type": "markdown",
   "metadata": {},
   "source": [
    "## ... now assume that gens.json was obtained using the above distance matrix"
   ]
  },
  {
   "cell_type": "code",
   "execution_count": 38,
   "metadata": {},
   "outputs": [],
   "source": [
    "#gens = process_json('Dowker/gens.json')"
   ]
  },
  {
   "cell_type": "code",
   "execution_count": 39,
   "metadata": {},
   "outputs": [],
   "source": [
    "#nx.draw(G,pos=bin_pos(G), node_size=25 ,node_color=color_cycle_digraph(-1,G,gens))"
   ]
  },
  {
   "cell_type": "code",
   "execution_count": 40,
   "metadata": {},
   "outputs": [],
   "source": [
    "#fig = plot_phase_space_3d(data,color_seq(bin_seq))"
   ]
  },
  {
   "cell_type": "code",
   "execution_count": 41,
   "metadata": {},
   "outputs": [],
   "source": [
    "#fig.show()"
   ]
  },
  {
   "cell_type": "code",
   "execution_count": 42,
   "metadata": {},
   "outputs": [],
   "source": [
    "#fig2 = plot_phase_space_3d(data,cycle_color_seq(-1,G,gens,bin_seq))"
   ]
  },
  {
   "cell_type": "code",
   "execution_count": 43,
   "metadata": {},
   "outputs": [],
   "source": [
    "#fig2.show()"
   ]
  }
 ],
 "metadata": {
  "kernelspec": {
   "display_name": "base",
   "language": "python",
   "name": "python3"
  },
  "language_info": {
   "codemirror_mode": {
    "name": "ipython",
    "version": 3
   },
   "file_extension": ".py",
   "mimetype": "text/x-python",
   "name": "python",
   "nbconvert_exporter": "python",
   "pygments_lexer": "ipython3",
   "version": "3.11.7"
  }
 },
 "nbformat": 4,
 "nbformat_minor": 2
}
