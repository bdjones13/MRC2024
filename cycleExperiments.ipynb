{
 "cells": [
  {
   "cell_type": "markdown",
   "metadata": {},
   "source": [
    "# Imports"
   ]
  },
  {
   "cell_type": "code",
   "execution_count": 2,
   "metadata": {},
   "outputs": [],
   "source": [
    "import numpy as np\n",
    "import networkx as nx\n",
    "import plotly.graph_objects as go \n",
    "import gudhi as gd\n",
    "import matplotlib.pyplot as plt"
   ]
  },
  {
   "cell_type": "markdown",
   "metadata": {
    "jp-MarkdownHeadingCollapsed": true
   },
   "source": [
    "# Functions"
   ]
  },
  {
   "cell_type": "code",
   "execution_count": 4,
   "metadata": {},
   "outputs": [],
   "source": [
    "#Inputs: ts - a 2D np array of any shape. Probably a time series. \n",
    "# b - the number of bins in each dimension\n",
    "#Output: bins - A dictionary of arrays that contains the boundaries of the bins in each dimension\n",
    "\n",
    "def get_bins(ts,b):\n",
    "    d,n = ts.shape\n",
    "    bins = {}\n",
    "    for i in range(d):\n",
    "        top = max(ts[i,:])\n",
    "        bot = min(ts[i,:])\n",
    "        step = (top - bot)/b\n",
    "        ibins = []\n",
    "        for j in range(b+1):\n",
    "            ibins.append(bot+j*step)\n",
    "        bins[i] = ibins\n",
    "    return bins"
   ]
  },
  {
   "cell_type": "code",
   "execution_count": 5,
   "metadata": {},
   "outputs": [],
   "source": [
    "#Inputs: ts - time series\n",
    "#bins - the partition of each dimension into its bins\n",
    "#b - number of bins in each dimension\n",
    "\n",
    "#Output: binseq - a 1D array the length of ts that lists which bin each entry in the time series is in\n",
    "\n",
    "def bin_sequence(ts, bins, b):\n",
    "    d,n = ts.shape\n",
    "    binseq = np.zeros((n))\n",
    "    for i in range(n):\n",
    "        bin_n = 0\n",
    "        for j in range(d):\n",
    "            k = 1\n",
    "            while k <= b:\n",
    "                if ts[j,i] <= bins[j][k]:\n",
    "                    bin_n += (k-1)*(b**j)\n",
    "                    k = b + 1\n",
    "                else: \n",
    "                    k = k + 1 \n",
    "        binseq[i] = bin_n\n",
    "\n",
    "    return binseq"
   ]
  },
  {
   "cell_type": "code",
   "execution_count": 6,
   "metadata": {},
   "outputs": [],
   "source": [
    "#inputs: bin-seq - the bin sequence of the time series\n",
    "#outputs: A - the adjacency matrix\n",
    "# vertices - the list of vertices, enumerated as bin number\n",
    "\n",
    "def adjacency(bin_seq, prob = False):\n",
    "    vertices, counts = np.unique(bin_seq, return_counts=True)\n",
    "    order = len(vertices)\n",
    "    A = np.zeros((order,order))\n",
    "    for i in range(len(bin_seq)-1):\n",
    "        A[np.where(vertices == bin_seq[i]),np.where(vertices == bin_seq[i+1])] += 1\n",
    "    if prob:\n",
    "        A[:,i] = A[:,i]/np.sum(A[:,i])\n",
    "    return A, vertices, counts"
   ]
  },
  {
   "cell_type": "code",
   "execution_count": 7,
   "metadata": {},
   "outputs": [],
   "source": [
    "# inputs: A - the adjacency matrix\n",
    "# vertices - the list of vertices, which are the bin numbers\n",
    "# loops - whether or not to keep the self-loops in the graph, I am going to do something with this eventually when I include some sort of markovian random walk diffusion distance \n",
    "#Output: G - a networkx digraph\n",
    "\n",
    "def digraph(A, vertices, counts, loops: bool):\n",
    "    if loops == False:\n",
    "        np.fill_diagonal(A,0)\n",
    "        G = nx.DiGraph(A)\n",
    "    elif loops == True:\n",
    "        G = nx.DiGraph(A)\n",
    "    for i in range(len(G.nodes)):\n",
    "       G.nodes[i]['bin'] = vertices[i]\n",
    "       G.nodes[i]['count'] = counts[i]\n",
    "\n",
    "    return G"
   ]
  },
  {
   "cell_type": "code",
   "execution_count": 8,
   "metadata": {},
   "outputs": [],
   "source": [
    "def bin_centers(bins, b):\n",
    "    bin_cent = np.zeros((b**3,3))\n",
    "    for k in range(b):\n",
    "        for j in range(b):\n",
    "            for i in range(b):\n",
    "                bin_cent[k*b**2 + j*b + i,0] += np.mean(bins[0][i:i+2]) \n",
    "                bin_cent[k*b**2 + j*b + i,1] += np.mean(bins[1][j:j+2]) \n",
    "                bin_cent[k*b**2 + j*b + i,2] += np.mean(bins[2][k:k+2]) \n",
    "\n",
    "    return bin_cent"
   ]
  },
  {
   "cell_type": "code",
   "execution_count": 9,
   "metadata": {},
   "outputs": [],
   "source": [
    "#Inputs: G - a networkx graph\n",
    "# method - the way you want to measure distance on the graph\n",
    "# Outputs: D - a distance matrix\n",
    "\n",
    "def distance_matrix(G, method = 'unweighted_shortest_path'):\n",
    "    if method == 'unweighted_shortest_path':\n",
    "        lengths = dict(nx.all_pairs_shortest_path_length(G))\n",
    "        D = np.full((len(lengths),len(lengths)),1000,dtype=float) # was -1 default\n",
    "        for key in lengths:\n",
    "            for item in lengths[key]:\n",
    "                    D[key,item] = lengths[key][item]\n",
    "    \n",
    "    if method == 'probabilistic': #since I doubt we are doing this in this paper, I haven't checked exactly if this is right\n",
    "        w = nx.get_edge_attributes(G,'weight')\n",
    "        for key in w:\n",
    "            w[key] = 1/w[key]\n",
    "        nx.set_edge_attributes(G,w,name='weight')\n",
    "        lengths = dict(nx.all_pairs_dijkstra_path_length(G))\n",
    "        D = np.full((len(lengths),len(lengths)),1000,dtype=float) # was -1 default\n",
    "        for key in lengths:\n",
    "            for item in lengths[key]:\n",
    "                if lengths[key][item] != 0:\n",
    "                    D[key,item] = lengths[key][item]\n",
    "                elif lengths[key][item] == 0:\n",
    "                    D[key,item] = 0\n",
    "\n",
    "    if method == 'weighted_shortest_path':\n",
    "        lengths = dict(nx.all_pairs_dijkstra_path_length(G))\n",
    "        D = np.full((len(lengths),len(lengths)),1000,dtype=float) # was -1 default\n",
    "        for key in lengths:\n",
    "            for item in lengths[key]:\n",
    "                if lengths[key][item] != 0:\n",
    "                    D[key,item] = lengths[key][item]\n",
    "                elif lengths[key][item] == 0:\n",
    "                    D[key,item] = 0\n",
    "\n",
    "    return D"
   ]
  },
  {
   "cell_type": "code",
   "execution_count": 10,
   "metadata": {},
   "outputs": [],
   "source": [
    "# This cell is copy-pasted from pyDowker\n",
    "# by Niklas Hellmer and Jan Spalinski, but only the portion\n",
    "# that's relevant to our project.\n",
    "# See https://github.com/nihell/pyDowker\n",
    "\n",
    "\n",
    "from gudhi import SimplexTree\n",
    "import numpy as np\n",
    "\n",
    "class DowkerComplex:\n",
    "    \"\"\"\n",
    "    Class MNeighborComplex. Constructs Dowker's simplicial complex for a relation.\n",
    "    Filtrations can be added using filtered relations, or total weight, or combining both into a bifiltration.\n",
    "    \"\"\"\n",
    "\n",
    "    def __init__(self, rel_matrix, max_filtration=float('inf')) -> None:\n",
    "        \"\"\"_summary_\n",
    "        Constructor for the filtered Dowker complex from the relations given by sublevels of the matrix rel_matrix.\n",
    "        The vertices in the complex will correspond to the rows of the matrix.\n",
    "        \n",
    "        Parameters\n",
    "        ----------\n",
    "        rel_matrix (Sequence[Sequence[float]]): distance matrix (full square or lower triangular).\n",
    "        max_filtration (float): specifies the maximal filtration value to be considered.      \n",
    "        \"\"\"\n",
    "        self.rel_matrix = rel_matrix\n",
    "        self.st = None\n",
    "        \n",
    "        \n",
    "     \n",
    "\n",
    "    def create_simplex_tree(self, \n",
    "                            max_dimension, \n",
    "                            filtration = 'None', \n",
    "                            m=1, \n",
    "                            level = 0, \n",
    "                            max_filtration = np.inf):\n",
    "        \"\"\"\n",
    "            Creates a gudhi simplex tree storing a skeleton of the (filtered) simpicial complex.\n",
    "            Uses recursive algorithm with nummpy arrays, fast for small datasets but worse runtime and memory complexity.\n",
    "\n",
    "\n",
    "        Parameters\n",
    "        ----------\n",
    "        max_dimension : int\n",
    "            Dimension of the skeleton to compute.\n",
    "        filtration : str, optional\n",
    "            valid values: \"Sublevel\", \"TotalWeight\", \"None\".\n",
    "            \"Sublevel\" takes the filtration of relations by sublevels of the matrix.\n",
    "            \"Total weight\" takes the filtration by sublevels of the negative total weight function.\n",
    "            By default 'None'\n",
    "        m : int, optional\n",
    "            restriction to this superlevel of total weight (this is only used if filtration!=\"TotalWeight\"); m=1 corresponds to the whole Dowker complex, by default 1\n",
    "        level : int, optional\n",
    "            restriction to this sublevel of the matrix as relation (this is only used if filtration!=\"Sublevel\"), by default 0\n",
    "        max_filtration : float, optional\n",
    "            cutoff for the filtration (only used if filtration=\"Sublevel\"), by default np.inf\n",
    "\n",
    "        Returns\n",
    "        -------\n",
    "        gudhi.SimplexTree\n",
    "            The simplex tree storing the (filtered) simplicial complex\n",
    "        \"\"\"\n",
    "        \n",
    "        self.st=SimplexTree()\n",
    "\n",
    "\n",
    "        LAMBDA = self.rel_matrix\n",
    "        num_points=len(LAMBDA)\n",
    "        \n",
    "        if filtration == \"Sublevel\":\n",
    "            if LAMBDA.dtype != np.float64:\n",
    "                raise TypeError(\"Only float arrays are allowed with sublevel filtration\") \n",
    "            def append_upper_cofaces(sigma, r, witness_values):\n",
    "                if r > max_filtration:\n",
    "                    return\n",
    "                self.st.insert(sigma,r)\n",
    "                if len(sigma)<=max_dimension:\n",
    "                    for j in range(np.max(sigma)+1,num_points):\n",
    "                        tau = sigma+[j]\n",
    "\n",
    "                        j_witness_values=LAMBDA[j,:]\n",
    "                        common_witness_values = np.maximum(j_witness_values,witness_values)\n",
    "                        new_r = np.partition(common_witness_values, m-1)[m-1]\n",
    "                        append_upper_cofaces(tau, new_r, common_witness_values)\n",
    "\n",
    "            for k in range(num_points-1,-1,-1):\n",
    "                witness_values = LAMBDA[k,:]\n",
    "                r_new = np.partition(witness_values, m-1)[m-1]\n",
    "                append_upper_cofaces([k],r_new,witness_values)\n",
    "            return self.st\n",
    "        \n",
    "        elif filtration == \"TotalWeight\":\n",
    "            if LAMBDA.dtype != np.bool_:\n",
    "                LAMBDA = LAMBDA <= level\n",
    "\n",
    "            def append_upper_cofaces(sigma, witnesses):\n",
    "                \n",
    "                self.st.insert(sigma,-np.sum(witnesses))\n",
    "                if len(sigma)<=max_dimension:\n",
    "                    for j in range(np.max(sigma)+1,num_points):\n",
    "                        tau = sigma+[j]\n",
    "                        j_witnesses=LAMBDA[j,:]\n",
    "                        common_witnesses = np.logical_and(j_witnesses,witnesses)\n",
    "                        if np.sum(common_witnesses>0):\n",
    "                            append_upper_cofaces(tau, common_witnesses)\n",
    "\n",
    "            for k in range(num_points-1,-1,-1):\n",
    "                witnesses = LAMBDA[k,:]\n",
    "                append_upper_cofaces([k], witnesses)\n",
    "            return self.st\n",
    "\n",
    "        elif filtration == \"None\":\n",
    "            if LAMBDA.dtype != np.bool_:\n",
    "                LAMBDA = LAMBDA <= level\n",
    "\n",
    "            def append_upper_cofaces(sigma, witnesses):\n",
    "                if len(witnesses)<m:\n",
    "                    return\n",
    "                self.st.insert(sigma)\n",
    "                if len(sigma)<=max_dimension:\n",
    "                    for j in range(np.max(sigma)+1,num_points):\n",
    "                        tau = sigma+[j]\n",
    "                        j_witnesses=LAMBDA[j,:]\n",
    "                        common_witnesses = np.logical_and(j_witnesses,witnesses)\n",
    "                        if len(common_witnesses>0):\n",
    "                            append_upper_cofaces(tau, common_witnesses)\n",
    "\n",
    "            for k in range(num_points-1,-1,-1):\n",
    "                witnesses = LAMBDA[k,:]\n",
    "                append_upper_cofaces([k], witnesses)\n",
    "            return self.st\n",
    "        \n",
    "        else:\n",
    "            raise Exception(\"filtration parameter must be one of 'Sublevel', 'TotalWeight', 'None'\")"
   ]
  },
  {
   "cell_type": "code",
   "execution_count": 11,
   "metadata": {},
   "outputs": [],
   "source": [
    "def weight_graph(G, weights, smallest, biggest):\n",
    "\n",
    "\n",
    "    edges = [e for e in G.edges]\n",
    "\n",
    "    for e in edges:\n",
    "        source = e[0]\n",
    "        target = e[1]\n",
    "        G[source][target]['weight'] = weights(smallest, biggest)\n",
    "\n",
    "    return G"
   ]
  },
  {
   "cell_type": "markdown",
   "metadata": {},
   "source": [
    "# For our experiments, we also need to generate synthetic cycle and figure eight graphs, with various directions and weights"
   ]
  },
  {
   "cell_type": "markdown",
   "metadata": {
    "jp-MarkdownHeadingCollapsed": true
   },
   "source": [
    "## Unweighted Consistently Oriented Cycle"
   ]
  },
  {
   "cell_type": "markdown",
   "metadata": {},
   "source": [
    "### Hexagon"
   ]
  },
  {
   "cell_type": "code",
   "execution_count": 15,
   "metadata": {},
   "outputs": [
    {
     "data": {
      "image/png": "[encoded data removed]",
      "text/plain": [
       "<Figure size 400x300 with 1 Axes>"
      ]
     },
     "metadata": {},
     "output_type": "display_data"
    }
   ],
   "source": [
    "saveFig = 0; # if 1, save; if 0, don't save\n",
    "\n",
    "# Create cycle graph using networkx\n",
    "cycleG = nx.cycle_graph(6, create_using=nx.DiGraph)\n",
    "# Draw cycle graph\n",
    "pos = nx.circular_layout(cycleG)\n",
    "plt.figure(figsize=(4, 3)) \n",
    "nx.draw(cycleG, pos, edge_color='black', node_size=60, node_color='black', arrowsize=15, width=1)\n",
    "\n",
    "if saveFig == 1:\n",
    "    plt.savefig(\"unwgt_consistcycle_hex.pdf\")"
   ]
  },
  {
   "cell_type": "code",
   "execution_count": 16,
   "metadata": {},
   "outputs": [
    {
     "data": {
      "text/plain": [
       "[(1, (1.0, 3.0)),\n",
       " (0, (0.0, inf)),\n",
       " (0, (0.0, 1.0)),\n",
       " (0, (0.0, 1.0)),\n",
       " (0, (0.0, 1.0)),\n",
       " (0, (0.0, 1.0)),\n",
       " (0, (0.0, 1.0))]"
      ]
     },
     "execution_count": 16,
     "metadata": {},
     "output_type": "execute_result"
    }
   ],
   "source": [
    "# Compute persistence\n",
    "Dcycle = distance_matrix(cycleG)\n",
    "cyclecomplex = DowkerComplex(Dcycle).create_simplex_tree(filtration='Sublevel', max_dimension=2)\n",
    "dgmcycle = cyclecomplex.persistence()\n",
    "dgmcycle"
   ]
  },
  {
   "cell_type": "code",
   "execution_count": 17,
   "metadata": {},
   "outputs": [
    {
     "data": {
      "image/png": "[encoded data removed]",
      "text/plain": [
       "<Figure size 640x480 with 1 Axes>"
      ]
     },
     "metadata": {},
     "output_type": "display_data"
    }
   ],
   "source": [
    "# Corresponding barcode for consistently oriented hexagon\n",
    "gd.plot_persistence_barcode(dgmcycle)\n",
    "plt.title('');\n",
    "font = {'family' : 'normal',\n",
    "        'weight' : 'bold',\n",
    "        'size'   : 16}\n",
    "plt.rc('font', **font)\n",
    "plt.gca().set_xlim(left=0)\n",
    "\n",
    "if saveFig == 1:\n",
    "    plt.savefig(\"unwgt_consistcycle_hex_barcode.pdf\")"
   ]
  },
  {
   "cell_type": "markdown",
   "metadata": {
    "jp-MarkdownHeadingCollapsed": true
   },
   "source": [
    "### Octagon"
   ]
  },
  {
   "cell_type": "code",
   "execution_count": 19,
   "metadata": {},
   "outputs": [
    {
     "data": {
      "image/png": "[encoded data removed]",
      "text/plain": [
       "<Figure size 300x300 with 1 Axes>"
      ]
     },
     "metadata": {},
     "output_type": "display_data"
    }
   ],
   "source": [
    "saveFig = 0; # if 1, save; if 0, don't save\n",
    "\n",
    "# Create cycle graph using networkx\n",
    "cycleG = nx.cycle_graph(8, create_using=nx.DiGraph)\n",
    "# Draw cycle graph\n",
    "pos = nx.circular_layout(cycleG)\n",
    "plt.figure(figsize=(3, 3)) \n",
    "nx.draw(cycleG, pos, edge_color='black', node_size=50, node_color='black', arrowsize=15, width=1)\n",
    "\n",
    "if saveFig == 1:\n",
    "    plt.savefig(\"unwgt_consistcycle_oct.pdf\")"
   ]
  },
  {
   "cell_type": "code",
   "execution_count": 20,
   "metadata": {},
   "outputs": [
    {
     "data": {
      "text/plain": [
       "[(1, (1.0, 4.0)),\n",
       " (0, (0.0, inf)),\n",
       " (0, (0.0, 1.0)),\n",
       " (0, (0.0, 1.0)),\n",
       " (0, (0.0, 1.0)),\n",
       " (0, (0.0, 1.0)),\n",
       " (0, (0.0, 1.0)),\n",
       " (0, (0.0, 1.0)),\n",
       " (0, (0.0, 1.0))]"
      ]
     },
     "execution_count": 20,
     "metadata": {},
     "output_type": "execute_result"
    }
   ],
   "source": [
    "# Compute persistence\n",
    "Dcycle = distance_matrix(cycleG)\n",
    "cyclecomplex = DowkerComplex(Dcycle).create_simplex_tree(filtration='Sublevel', max_dimension=2)\n",
    "dgmcycle = cyclecomplex.persistence()\n",
    "dgmcycle"
   ]
  },
  {
   "cell_type": "code",
   "execution_count": 21,
   "metadata": {},
   "outputs": [
    {
     "data": {
      "image/png": "[encoded data removed]",
      "text/plain": [
       "<Figure size 640x480 with 1 Axes>"
      ]
     },
     "metadata": {},
     "output_type": "display_data"
    }
   ],
   "source": [
    "# Corresponding barcode for consistently oriented octagon\n",
    "gd.plot_persistence_barcode(dgmcycle)\n",
    "plt.title('');\n",
    "font = {'family' : 'normal',\n",
    "        'weight' : 'bold',\n",
    "        'size'   : 16}\n",
    "plt.rc('font', **font)\n",
    "plt.gca().set_xlim(left=0)\n",
    "\n",
    "if saveFig == 1:\n",
    "    plt.savefig(\"unwgt_consistcycle_oct_barcode.pdf\")"
   ]
  },
  {
   "cell_type": "markdown",
   "metadata": {},
   "source": [
    "## Weighted Consistently Oriented Cycle"
   ]
  },
  {
   "cell_type": "markdown",
   "metadata": {
    "jp-MarkdownHeadingCollapsed": true
   },
   "source": [
    "### Hexagon"
   ]
  },
  {
   "cell_type": "code",
   "execution_count": 24,
   "metadata": {},
   "outputs": [
    {
     "data": {
      "image/png": "[encoded data removed]",
      "text/plain": [
       "<Figure size 400x300 with 1 Axes>"
      ]
     },
     "metadata": {},
     "output_type": "display_data"
    }
   ],
   "source": [
    "saveFig = 0; # if 1, save; if 0, don't save\n",
    "\n",
    "# Create graph\n",
    "cycleG = nx.cycle_graph(6, create_using=nx.DiGraph)\n",
    "# Assign random weights\n",
    "pos = nx.circular_layout(cycleG)\n",
    "weightedcycleG = weight_graph(cycleG, np.random.randint, 1, 10)\n",
    "edge_labels = nx.get_edge_attributes(weightedcycleG, 'weight')\n",
    "\n",
    "plt.figure(figsize=(4, 3))\n",
    "nx.draw(weightedcycleG, pos, node_color='black', node_size=50, edge_color='black', arrowsize=15, width=1)\n",
    "nx.draw_networkx_edge_labels(weightedcycleG, pos, edge_labels=edge_labels, font_size=16, label_pos=0.5, font_color='black')\n",
    "\n",
    "if saveFig == 1:\n",
    "    plt.savefig(\"wgt_consistcycle_hex.pdf\")\n"
   ]
  },
  {
   "cell_type": "code",
   "execution_count": 25,
   "metadata": {},
   "outputs": [
    {
     "data": {
      "text/plain": [
       "[(1, (9.0, 18.0)),\n",
       " (0, (0.0, inf)),\n",
       " (0, (0.0, 8.0)),\n",
       " (0, (0.0, 7.0)),\n",
       " (0, (0.0, 6.0)),\n",
       " (0, (0.0, 3.0)),\n",
       " (0, (0.0, 2.0))]"
      ]
     },
     "execution_count": 25,
     "metadata": {},
     "output_type": "execute_result"
    }
   ],
   "source": [
    "# Get distance matrix using weighted shortest path\n",
    "Dcycleweighted = distance_matrix(weightedcycleG, 'weighted_shortest_path')\n",
    "\n",
    "# Compute persistence\n",
    "weightedcyclecomplex = DowkerComplex(Dcycleweighted).create_simplex_tree(filtration='Sublevel', max_dimension=2)\n",
    "dgmweightedcycle = weightedcyclecomplex.persistence()\n",
    "dgmweightedcycle"
   ]
  },
  {
   "cell_type": "code",
   "execution_count": 26,
   "metadata": {},
   "outputs": [
    {
     "data": {
      "image/png": "[encoded data removed]",
      "text/plain": [
       "<Figure size 640x480 with 1 Axes>"
      ]
     },
     "metadata": {},
     "output_type": "display_data"
    }
   ],
   "source": [
    "# Corresponding barcode for consistently oriented octagon\n",
    "gd.plot_persistence_barcode(dgmweightedcycle)\n",
    "plt.title('');\n",
    "font = {'family' : 'normal',\n",
    "        'weight' : 'bold',\n",
    "        'size'   : 18}\n",
    "plt.rc('font', **font)\n",
    "ax = plt.gca()\n",
    "xmin, xmax = ax.get_xlim()\n",
    "plt.xticks(np.arange(0,xmax+2,2))\n",
    "plt.gca().set_xlim(left=0)\n",
    "\n",
    "if saveFig == 1:\n",
    "    plt.savefig(\"wgt_consistcycle_hex_barcode.pdf\")"
   ]
  },
  {
   "cell_type": "markdown",
   "metadata": {
    "jp-MarkdownHeadingCollapsed": true
   },
   "source": [
    "### Octagon"
   ]
  },
  {
   "cell_type": "code",
   "execution_count": 28,
   "metadata": {},
   "outputs": [
    {
     "data": {
      "image/png": "[encoded data removed]",
      "text/plain": [
       "<Figure size 300x300 with 1 Axes>"
      ]
     },
     "metadata": {},
     "output_type": "display_data"
    }
   ],
   "source": [
    "saveFig = 0; # if 1, save; if 0, don't save\n",
    "\n",
    "# Create graph\n",
    "cycleG = nx.cycle_graph(8, create_using=nx.DiGraph)\n",
    "# Assign random weights\n",
    "pos = nx.circular_layout(cycleG)\n",
    "weightedcycleG = weight_graph(cycleG, np.random.randint, 1, 10)\n",
    "edge_labels = nx.get_edge_attributes(weightedcycleG, 'weight')\n",
    "\n",
    "plt.figure(figsize=(3, 3))\n",
    "nx.draw(weightedcycleG, pos, node_color='black', node_size=50, edge_color='black', arrowsize=15, width=1)\n",
    "nx.draw_networkx_edge_labels(weightedcycleG, pos, edge_labels=edge_labels, font_size=16, label_pos=0.5, font_color='black')\n",
    "\n",
    "if saveFig == 1:\n",
    "    plt.savefig(\"wgt_consistcycle_oct.pdf\")\n"
   ]
  },
  {
   "cell_type": "code",
   "execution_count": 29,
   "metadata": {},
   "outputs": [
    {
     "data": {
      "text/plain": [
       "[(1, (8.0, 19.0)),\n",
       " (0, (0.0, inf)),\n",
       " (0, (0.0, 6.0)),\n",
       " (0, (0.0, 6.0)),\n",
       " (0, (0.0, 6.0)),\n",
       " (0, (0.0, 5.0)),\n",
       " (0, (0.0, 4.0)),\n",
       " (0, (0.0, 2.0)),\n",
       " (0, (0.0, 1.0))]"
      ]
     },
     "execution_count": 29,
     "metadata": {},
     "output_type": "execute_result"
    }
   ],
   "source": [
    "# Get distance matrix using weighted shortest path\n",
    "Dcycleweighted = distance_matrix(weightedcycleG, 'weighted_shortest_path')\n",
    "\n",
    "# Compute persistence\n",
    "weightedcyclecomplex = DowkerComplex(Dcycleweighted).create_simplex_tree(filtration='Sublevel', max_dimension=2)\n",
    "dgmweightedcycle = weightedcyclecomplex.persistence()\n",
    "dgmweightedcycle"
   ]
  },
  {
   "cell_type": "code",
   "execution_count": 30,
   "metadata": {},
   "outputs": [
    {
     "data": {
      "image/png": "[encoded data removed]",
      "text/plain": [
       "<Figure size 640x480 with 1 Axes>"
      ]
     },
     "metadata": {},
     "output_type": "display_data"
    }
   ],
   "source": [
    "# Corresponding barcode for consistently oriented octagon\n",
    "gd.plot_persistence_barcode(dgmweightedcycle)\n",
    "plt.title('');\n",
    "font = {'family' : 'normal',\n",
    "        'weight' : 'bold',\n",
    "        'size'   : 18}\n",
    "plt.rc('font', **font)\n",
    "# Get the x-axis limits\n",
    "ax = plt.gca()\n",
    "xmin, xmax = ax.get_xlim()\n",
    "plt.xticks(np.arange(0,xmax+2,3))\n",
    "plt.gca().set_xlim(left=0)\n",
    "\n",
    "if saveFig == 1:\n",
    "    plt.savefig(\"wgt_consistcycle_oct_barcode.pdf\")"
   ]
  },
  {
   "cell_type": "markdown",
   "metadata": {
    "jp-MarkdownHeadingCollapsed": true
   },
   "source": [
    "### Consistently-oriented cycle with one large edge"
   ]
  },
  {
   "cell_type": "code",
   "execution_count": 32,
   "metadata": {},
   "outputs": [
    {
     "data": {
      "image/png": "[encoded data removed]",
      "text/plain": [
       "<Figure size 300x300 with 1 Axes>"
      ]
     },
     "metadata": {},
     "output_type": "display_data"
    }
   ],
   "source": [
    "saveFig = 1; # if 1, save; if 0, don't save\n",
    "# Create graph\n",
    "cycleG = nx.cycle_graph(8, create_using=nx.DiGraph)\n",
    "\n",
    "# Assign random weights\n",
    "pos = nx.circular_layout(cycleG)\n",
    "weightedcycleG = weight_graph(cycleG, np.random.randint, 1, 10)\n",
    "\n",
    "# make one edge weight large\n",
    "largeEdgewt = 30\n",
    "weightedcycleG.remove_edge(3,4)\n",
    "weightedcycleG.add_edge(3,4,weight=largeEdgewt)\n",
    "\n",
    "edge_labels = nx.get_edge_attributes(weightedcycleG, 'weight')\n",
    "\n",
    "plt.figure(figsize=(3, 3))\n",
    "nx.draw(weightedcycleG, pos, node_color='black', node_size=50, edge_color='black', arrowsize=15, width=1)\n",
    "nx.draw_networkx_edge_labels(weightedcycleG, pos, edge_labels=edge_labels, font_size=16, label_pos=0.5, font_color='black')\n",
    "\n",
    "if saveFig == 1:\n",
    "    plt.savefig(\"wgt_consistcycle_oct_largeEdge.pdf\")"
   ]
  },
  {
   "cell_type": "code",
   "execution_count": 33,
   "metadata": {},
   "outputs": [
    {
     "data": {
      "text/plain": [
       "[(1, (30.0, 33.0)),\n",
       " (0, (0.0, inf)),\n",
       " (0, (0.0, 7.0)),\n",
       " (0, (0.0, 6.0)),\n",
       " (0, (0.0, 5.0)),\n",
       " (0, (0.0, 5.0)),\n",
       " (0, (0.0, 4.0)),\n",
       " (0, (0.0, 3.0)),\n",
       " (0, (0.0, 3.0))]"
      ]
     },
     "execution_count": 33,
     "metadata": {},
     "output_type": "execute_result"
    }
   ],
   "source": [
    "# Get distance matrix using weighted shortest path\n",
    "Dcycleweighted = distance_matrix(weightedcycleG, 'weighted_shortest_path')\n",
    "\n",
    "# Compute persistence\n",
    "weightedcyclecomplex = DowkerComplex(Dcycleweighted).create_simplex_tree(filtration='Sublevel', max_dimension=2)\n",
    "dgmweightedcycle = weightedcyclecomplex.persistence()\n",
    "dgmweightedcycle"
   ]
  },
  {
   "cell_type": "code",
   "execution_count": 34,
   "metadata": {},
   "outputs": [
    {
     "data": {
      "image/png": "[encoded data removed]",
      "text/plain": [
       "<Figure size 640x480 with 1 Axes>"
      ]
     },
     "metadata": {},
     "output_type": "display_data"
    }
   ],
   "source": [
    "# Corresponding barcode for consistently oriented octagon\n",
    "gd.plot_persistence_barcode(dgmweightedcycle)\n",
    "plt.title('');\n",
    "font = {'family' : 'normal',\n",
    "        'weight' : 'bold',\n",
    "        'size'   : 18}\n",
    "plt.rc('font', **font)\n",
    "# Get the x-axis limits\n",
    "ax = plt.gca()\n",
    "xmin, xmax = ax.get_xlim()\n",
    "plt.xticks(np.arange(0,xmax+2,3))\n",
    "plt.gca().set_xlim(left=0)\n",
    "\n",
    "if saveFig == 1:\n",
    "    plt.savefig(\"wgt_consistcycle_oct_largeEdge_barcode.pdf\")"
   ]
  },
  {
   "cell_type": "markdown",
   "metadata": {},
   "source": [
    "## Not Consistently Oriented, Unweigthed Cycle"
   ]
  },
  {
   "cell_type": "markdown",
   "metadata": {
    "jp-MarkdownHeadingCollapsed": true
   },
   "source": [
    "### One source, one sink"
   ]
  },
  {
   "cell_type": "code",
   "execution_count": 37,
   "metadata": {},
   "outputs": [
    {
     "data": {
      "image/png": "[encoded data removed]",
      "text/plain": [
       "<Figure size 400x300 with 1 Axes>"
      ]
     },
     "metadata": {},
     "output_type": "display_data"
    }
   ],
   "source": [
    "saveFig = 1 # if 1, save; if 0, don't save\n",
    "\n",
    "# create cycle graph edges and vertices\n",
    "notcycleG = nx.cycle_graph(6, create_using=nx.DiGraph)\n",
    "# change orientation of desired edges\n",
    "notcycleG.remove_edge(3,4)\n",
    "notcycleG.remove_edge(4,5)\n",
    "notcycleG.remove_edge(5,0)\n",
    "notcycleG.add_edge(4,3)\n",
    "notcycleG.add_edge(5,4)\n",
    "notcycleG.add_edge(0,5)\n",
    "\n",
    "# Draw cycle graph\n",
    "pos = nx.circular_layout(notcycleG)\n",
    "plt.figure(figsize=(4, 3)) \n",
    "# set node colors\n",
    "nx.set_node_attributes(notcycleG, {0: '#117733', 3: '#ff7f0e'}, name='color')\n",
    "for node in notcycleG.nodes:\n",
    "    if 'color' not in notcycleG.nodes[node]:\n",
    "        notcycleG.nodes[node]['color'] = 'black'\n",
    "node_colors = [notcycleG.nodes[node]['color'] for node in notcycleG.nodes]\n",
    "nx.draw(notcycleG, pos, edge_color='black', node_color=node_colors, node_size=70, arrowsize=15, width=1)\n",
    "\n",
    "if saveFig == 1:\n",
    "    plt.savefig(\"unwgt_notcycle_hex_1source1sink.pdf\")"
   ]
  },
  {
   "cell_type": "code",
   "execution_count": 38,
   "metadata": {},
   "outputs": [
    {
     "data": {
      "text/plain": [
       "[(1, (1.0, 3.0)),\n",
       " (0, (0.0, inf)),\n",
       " (0, (0.0, 1.0)),\n",
       " (0, (0.0, 1.0)),\n",
       " (0, (0.0, 1.0)),\n",
       " (0, (0.0, 1.0)),\n",
       " (0, (0.0, 1.0))]"
      ]
     },
     "execution_count": 38,
     "metadata": {},
     "output_type": "execute_result"
    }
   ],
   "source": [
    "# Compute persistence\n",
    "Dnotcycle = distance_matrix(notcycleG)\n",
    "notcyclecomplex = DowkerComplex(Dnotcycle).create_simplex_tree(filtration='Sublevel', max_dimension=2)\n",
    "dgmnotcycle = notcyclecomplex.persistence()\n",
    "dgmnotcycle"
   ]
  },
  {
   "cell_type": "code",
   "execution_count": 228,
   "metadata": {},
   "outputs": [
    {
     "data": {
      "image/png": "[encoded data removed]",
      "text/plain": [
       "<Figure size 640x480 with 1 Axes>"
      ]
     },
     "metadata": {},
     "output_type": "display_data"
    }
   ],
   "source": [
    "# Corresponding barcode for unweighted hexagon with one source and one sink\n",
    "gd.plot_persistence_barcode(dgmnotcycle)\n",
    "plt.title('');\n",
    "font = {'family' : 'normal',\n",
    "        'weight' : 'bold',\n",
    "        'size'   : 18}\n",
    "plt.rc('font', **font)\n",
    "# Get the x-axis limits\n",
    "ax = plt.gca()\n",
    "xmin, xmax = ax.get_xlim()\n",
    "plt.xticks(np.arange(0,xmax+1,1))\n",
    "plt.gca().set_xlim(left=0)\n",
    "\n",
    "if saveFig == 1:\n",
    "    plt.savefig(\"unwgt_notcycle_hex_1source1sink_barcode.pdf\")"
   ]
  },
  {
   "cell_type": "markdown",
   "metadata": {},
   "source": [
    "## Not Consistently Oriented, Weighted Cycles"
   ]
  },
  {
   "cell_type": "markdown",
   "metadata": {
    "jp-MarkdownHeadingCollapsed": true
   },
   "source": [
    "### One source, one sink"
   ]
  },
  {
   "cell_type": "code",
   "execution_count": 42,
   "metadata": {},
   "outputs": [
    {
     "data": {
      "image/png": "[encoded data removed]",
      "text/plain": [
       "<Figure size 400x300 with 1 Axes>"
      ]
     },
     "metadata": {},
     "output_type": "display_data"
    }
   ],
   "source": [
    "saveFig = 1 # if 1, save; if 0, don't save\n",
    "\n",
    "# Example with 6 vertices, source at 0, sink at 3\n",
    "numVerts = 6\n",
    "notcycleG = nx.cycle_graph(numVerts, create_using=nx.DiGraph)\n",
    "wtnotcycleG = weight_graph(notcycleG, np.random.randint, 1, 10)\n",
    "\n",
    "wtnotcycleG.remove_edge(3,4)\n",
    "wtnotcycleG.remove_edge(4,5)\n",
    "wtnotcycleG.remove_edge(5,0)\n",
    "# right now, generating new random weights, but could keep originally generated weights\n",
    "wtnotcycleG.add_edge(4, 3, weight=np.random.randint(1,10))\n",
    "wtnotcycleG.add_edge(5,4, weight=np.random.randint(1,10))\n",
    "wtnotcycleG.add_edge(0,5, weight=np.random.randint(1,10))\n",
    "\n",
    "# Draw cycle graph\n",
    "pos = nx.circular_layout(notcycleG)\n",
    "plt.figure(figsize=(4, 3)) \n",
    "edge_labels = nx.get_edge_attributes(wtnotcycleG, 'weight')\n",
    "# set node colors\n",
    "nx.set_node_attributes(notcycleG, {0: '#117733', 3: '#ff7f0e'}, name='color')\n",
    "for node in notcycleG.nodes:\n",
    "    if 'color' not in notcycleG.nodes[node]:\n",
    "        notcycleG.nodes[node]['color'] = 'black'\n",
    "node_colors = [notcycleG.nodes[node]['color'] for node in notcycleG.nodes]\n",
    "\n",
    "nx.draw(wtnotcycleG, pos, edge_color='black', node_color=node_colors, node_size=70, arrowsize=15, width=1)\n",
    "nx.draw_networkx_edge_labels(wtnotcycleG, pos, edge_labels=edge_labels, font_size=16, label_pos=0.5, font_color='black')\n",
    "\n",
    "if saveFig == 1:\n",
    "    plt.savefig(\"wgt_notcycle_hex_1source1sink.pdf\")"
   ]
  },
  {
   "cell_type": "code",
   "execution_count": 43,
   "metadata": {},
   "outputs": [
    {
     "data": {
      "text/plain": [
       "[(1, (9.0, 12.0)),\n",
       " (0, (0.0, inf)),\n",
       " (0, (0.0, 8.0)),\n",
       " (0, (0.0, 8.0)),\n",
       " (0, (0.0, 4.0)),\n",
       " (0, (0.0, 3.0)),\n",
       " (0, (0.0, 1.0))]"
      ]
     },
     "execution_count": 43,
     "metadata": {},
     "output_type": "execute_result"
    }
   ],
   "source": [
    "# Get distance matrix using weighted shortest path\n",
    "DwtnotcycleG = distance_matrix(wtnotcycleG, method='weighted_shortest_path')\n",
    "\n",
    "# Compute persistence\n",
    "wtnotcyclecomplex = DowkerComplex(DwtnotcycleG).create_simplex_tree(filtration='Sublevel', max_dimension=2)\n",
    "dgmwtnotcycle = wtnotcyclecomplex.persistence()\n",
    "dgmwtnotcycle"
   ]
  },
  {
   "cell_type": "code",
   "execution_count": 44,
   "metadata": {},
   "outputs": [
    {
     "data": {
      "image/png": "[encoded data removed]",
      "text/plain": [
       "<Figure size 640x480 with 1 Axes>"
      ]
     },
     "metadata": {},
     "output_type": "display_data"
    }
   ],
   "source": [
    "# Corresponding barcode for weighted hexagon with one source and one sink\n",
    "gd.plot_persistence_barcode(dgmwtnotcycle)\n",
    "plt.title('');\n",
    "font = {'family' : 'normal',\n",
    "        'weight' : 'bold',\n",
    "        'size'   : 18}\n",
    "plt.rc('font', **font)\n",
    "ax = plt.gca()\n",
    "xmin, xmax = ax.get_xlim()\n",
    "plt.xticks(np.arange(0,xmax+2,2))\n",
    "plt.gca().set_xlim(left=0)\n",
    "\n",
    "if saveFig == 1:\n",
    "    plt.savefig(\"wgt_notcycle_hex_1source1sink_barcode.pdf\")"
   ]
  },
  {
   "cell_type": "code",
   "execution_count": null,
   "metadata": {},
   "outputs": [],
   "source": []
  },
  {
   "cell_type": "markdown",
   "metadata": {
    "jp-MarkdownHeadingCollapsed": true
   },
   "source": [
    "### Every other source/sink\n",
    "<p>Even number of vertices; every other vertex a source</p>\n",
    "<p>Should have one cycle persist indefinitely.</p>"
   ]
  },
  {
   "cell_type": "code",
   "execution_count": 198,
   "metadata": {},
   "outputs": [
    {
     "data": {
      "image/png": "[encoded data removed]",
      "text/plain": [
       "<Figure size 300x300 with 1 Axes>"
      ]
     },
     "metadata": {},
     "output_type": "display_data"
    }
   ],
   "source": [
    "# Example with numVerts vertices, every other is source/sink\n",
    "saveFig = 0 # if 1, save; if 0, don't save\n",
    "numVerts = 8 # make even for alternating\n",
    "G = nx.cycle_graph(numVerts, create_using=nx.DiGraph)\n",
    "G = weight_graph(G, np.random.randint, 1, 10)\n",
    "\n",
    "weightDict = nx.get_edge_attributes(G, 'weight')\n",
    "\n",
    "for k in range(1, numVerts+1, 2):\n",
    "    node1 = k\n",
    "    node2 = (k+1)%numVerts\n",
    "    \n",
    "    current_weight = weightDict[(node1, node2)]\n",
    "    \n",
    "    G.remove_edge(node1, node2)\n",
    "    G.add_edge(node2, node1, weight=current_weight)\n",
    "\n",
    "# Draw cycle graph\n",
    "pos = nx.circular_layout(G)\n",
    "plt.figure(figsize=(3, 3)) \n",
    "edge_labels = nx.get_edge_attributes(G, 'weight')\n",
    "# set node colors\n",
    "for node in G.nodes:\n",
    "    if 'color' not in G.nodes[node]:\n",
    "        if (node % 2) == 0:\n",
    "            G.nodes[node]['color'] = '#117733'\n",
    "        else:\n",
    "            G.nodes[node]['color'] = '#ff7f0e'\n",
    "node_colors = [G.nodes[node]['color'] for node in G.nodes]\n",
    "\n",
    "nx.draw(G, pos, edge_color='black', node_color=node_colors, node_size=60, arrowsize=10, width=1)\n",
    "nx.draw_networkx_edge_labels(G, pos, edge_labels=edge_labels, font_size=14, label_pos=0.5, font_color='black')\n",
    "\n",
    "if saveFig == 1:\n",
    "    plt.savefig(\"wgt_oct_everyOtherSourceSink.pdf\")"
   ]
  },
  {
   "cell_type": "code",
   "execution_count": 200,
   "metadata": {},
   "outputs": [
    {
     "data": {
      "text/plain": [
       "[(1, (9.0, 1000.0)),\n",
       " (0, (0.0, inf)),\n",
       " (0, (0.0, 8.0)),\n",
       " (0, (0.0, 7.0)),\n",
       " (0, (0.0, 7.0)),\n",
       " (0, (0.0, 4.0)),\n",
       " (0, (0.0, 2.0)),\n",
       " (0, (0.0, 2.0)),\n",
       " (0, (0.0, 1.0))]"
      ]
     },
     "execution_count": 200,
     "metadata": {},
     "output_type": "execute_result"
    }
   ],
   "source": [
    "# Compute persistence\n",
    "DwtnotcycleG = distance_matrix(G, method='weighted_shortest_path')\n",
    "wtnotcyclecomplex = DowkerComplex(DwtnotcycleG).create_simplex_tree(filtration='Sublevel', max_dimension=2)\n",
    "dgmwtnotcycle = wtnotcyclecomplex.persistence()\n",
    "dgmwtnotcycle # One cycle persists indefinitely!"
   ]
  },
  {
   "cell_type": "code",
   "execution_count": 202,
   "metadata": {},
   "outputs": [
    {
     "data": {
      "image/png": "[encoded data removed]",
      "text/plain": [
       "<Figure size 640x480 with 1 Axes>"
      ]
     },
     "metadata": {},
     "output_type": "display_data"
    }
   ],
   "source": [
    "# Corresponding barcode for octogon with alternating source/sink\n",
    "gd.plot_persistence_barcode(dgmwtnotcycle)\n",
    "plt.title('');\n",
    "font = {'family' : 'normal',\n",
    "        'weight' : 'bold',\n",
    "        'size'   : 18}\n",
    "plt.rc('font', **font)\n",
    "ax = plt.gca()\n",
    "xmin, xmax = ax.get_xlim()\n",
    "#plt.xticks(np.arange(0,xmax+2,2))\n",
    "plt.gca().set_xlim(left=0, right=1000)\n",
    "\n",
    "\n",
    "if saveFig == 1:\n",
    "    plt.savefig(\"wgt_oct_everyOtherSourceSink_barcode.pdf\")"
   ]
  },
  {
   "cell_type": "markdown",
   "metadata": {
    "jp-MarkdownHeadingCollapsed": true
   },
   "source": [
    "### Two opposing sources"
   ]
  },
  {
   "cell_type": "code",
   "execution_count": 308,
   "metadata": {},
   "outputs": [
    {
     "data": {
      "image/png": "[encoded data removed]",
      "text/plain": [
       "<Figure size 500x500 with 1 Axes>"
      ]
     },
     "metadata": {},
     "output_type": "display_data"
    }
   ],
   "source": [
    "# Example with 12 vertices, sources at 0 and 6, sinks at 3 and 9\n",
    "saveFig = 1 # if 1, save; if 0, don't save\n",
    "\n",
    "numVerts = 12\n",
    "source1 = 0\n",
    "sink1 = 3\n",
    "source2 = 6\n",
    "sink2 = 9\n",
    "Gtwosource = nx.cycle_graph(numVerts, create_using=nx.DiGraph)\n",
    "Gtwosource = weight_graph(Gtwosource, np.random.randint, 1, 10)\n",
    "\n",
    "weightDict = nx.get_edge_attributes(Gtwosource, 'weight')\n",
    "\n",
    "# Swap direction between sink1 and source2\n",
    "for k in range(sink1, source2, 1):\n",
    "    node1 = k\n",
    "    node2 = (k+1)%numVerts\n",
    "    \n",
    "    current_weight = weightDict[(node1, node2)] # keeping current weights; could generate new random weights\n",
    "    \n",
    "    Gtwosource.remove_edge(node1, node2)\n",
    "    Gtwosource.add_edge(node2, node1, weight=current_weight)\n",
    "\n",
    "# Swap direction between sink2 and source1\n",
    "for k in range(sink2, numVerts, 1):\n",
    "    node1 = k\n",
    "    node2 = (k+1)%numVerts\n",
    "    \n",
    "    current_weight = weightDict[(node1, node2)] # keeping current weights; could generate new random weights\n",
    "    \n",
    "    Gtwosource.remove_edge(node1, node2)\n",
    "    Gtwosource.add_edge(node2, node1, weight=current_weight)\n",
    "\n",
    "\n",
    "# Draw cycle graph\n",
    "pos = nx.circular_layout(Gtwosource)\n",
    "plt.figure(figsize=(5, 5)) \n",
    "edge_labels = nx.get_edge_attributes(Gtwosource, 'weight')\n",
    "# set node colors\n",
    "nx.set_node_attributes(Gtwosource, {source1: '#117733', source2: '#117733', sink1: '#ff7f0e', sink2: '#ff7f0e'}, name='color')\n",
    "for node in Gtwosource.nodes:\n",
    "    if 'color' not in Gtwosource.nodes[node]:\n",
    "        Gtwosource.nodes[node]['color'] = 'black'\n",
    "node_colors = [Gtwosource.nodes[node]['color'] for node in Gtwosource.nodes]\n",
    "\n",
    "nx.draw(Gtwosource, pos, edge_color='black', node_color=node_colors, node_size=70, arrowsize=15, width=1)\n",
    "nx.draw_networkx_edge_labels(Gtwosource, pos, edge_labels=edge_labels, font_size=25, label_pos=0.5, font_color='black')\n",
    "\n",
    "if saveFig == 1:\n",
    "    figFileName = \"wgt_\" + str(numVerts) + \"_twoSources.pdf\";\n",
    "    plt.savefig(figFileName)"
   ]
  },
  {
   "cell_type": "code",
   "execution_count": 310,
   "metadata": {},
   "outputs": [
    {
     "data": {
      "text/plain": [
       "[(1, (9.0, 24.0)),\n",
       " (0, (0.0, inf)),\n",
       " (0, (0.0, 8.0)),\n",
       " (0, (0.0, 8.0)),\n",
       " (0, (0.0, 8.0)),\n",
       " (0, (0.0, 7.0)),\n",
       " (0, (0.0, 6.0)),\n",
       " (0, (0.0, 6.0)),\n",
       " (0, (0.0, 6.0)),\n",
       " (0, (0.0, 4.0)),\n",
       " (0, (0.0, 2.0)),\n",
       " (0, (0.0, 1.0)),\n",
       " (0, (0.0, 1.0))]"
      ]
     },
     "execution_count": 310,
     "metadata": {},
     "output_type": "execute_result"
    }
   ],
   "source": [
    "Dtwosource = distance_matrix(Gtwosource, method='weighted_shortest_path')\n",
    "complextwosource = DowkerComplex(Dtwosource).create_simplex_tree(filtration='Sublevel', max_dimension=2)\n",
    "dgmtwosource = complextwosource.persistence()\n",
    "dgmtwosource"
   ]
  },
  {
   "cell_type": "code",
   "execution_count": 312,
   "metadata": {},
   "outputs": [
    {
     "data": {
      "image/png": "[encoded data removed]",
      "text/plain": [
       "<Figure size 640x480 with 1 Axes>"
      ]
     },
     "metadata": {},
     "output_type": "display_data"
    }
   ],
   "source": [
    "# Corresponding barcode for weighted 22 vertices with two sources\n",
    "gd.plot_persistence_barcode(dgmtwosource)\n",
    "plt.title('');\n",
    "font = {'family' : 'normal',\n",
    "        'weight' : 'bold',\n",
    "        'size'   : 18}\n",
    "plt.rc('font', **font)\n",
    "ax = plt.gca()\n",
    "xmin, xmax = ax.get_xlim()\n",
    "#plt.xticks(np.arange(0,xmax+2,2))\n",
    "plt.gca().set_xlim(left=0)\n",
    "\n",
    "\n",
    "if saveFig == 1:\n",
    "    figFileName = \"wgt_\" + str(numVerts) + \"_twoSources_barcode.pdf\";\n",
    "    plt.savefig(figFileName)"
   ]
  },
  {
   "cell_type": "markdown",
   "metadata": {
    "jp-MarkdownHeadingCollapsed": true
   },
   "source": [
    "### One source and one sink source, one edge with large weight (HASN'T BEEN FORMATTED)"
   ]
  },
  {
   "cell_type": "code",
   "execution_count": 59,
   "metadata": {},
   "outputs": [],
   "source": [
    "# Example with 12 vertices, sink at 0, source at 6, large weight on edge (5,4)\n",
    "numVerts = 12\n",
    "notcycleG = nx.cycle_graph(numVerts, create_using=nx.DiGraph)\n",
    "Glrgwt = weight_graph(notcycleG, np.random.randint, 1, 10)\n",
    "\n",
    "source = 6\n",
    "sink = 0\n",
    "\n",
    "weightDict = nx.get_edge_attributes(Glrgwt, 'weight')\n",
    "\n",
    "# Swap direction between sink1 and source2\n",
    "for k in range(sink, source, 1):\n",
    "    node1 = k\n",
    "    node2 = (k+1)%numVerts\n",
    "    \n",
    "    current_weight = weightDict[(node1, node2)] # keeping current weights; could generate new random weights\n",
    "    \n",
    "    Glrgwt.remove_edge(node1, node2)\n",
    "    Glrgwt.add_edge(node2, node1, weight=current_weight)\n",
    "\n",
    "# Replace one edge with large weight\n",
    "Glrgwt.remove_edge(5,4)\n",
    "Glrgwt.add_edge(5,4,weight=200)"
   ]
  },
  {
   "cell_type": "code",
   "execution_count": 60,
   "metadata": {},
   "outputs": [
    {
     "data": {
      "image/png": "[encoded data removed]",
      "text/plain": [
       "<Figure size 640x480 with 1 Axes>"
      ]
     },
     "metadata": {},
     "output_type": "display_data"
    }
   ],
   "source": [
    "nx.draw_networkx(Glrgwt)\n",
    "pos=nx.circular_layout(Glrgwt) # was nx.spring_layout\n",
    "labels = nx.get_edge_attributes(Glrgwt,'weight')\n",
    "nx.draw_networkx_edge_labels(Glrgwt,pos,edge_labels=labels)\n",
    "plt.show()"
   ]
  },
  {
   "cell_type": "code",
   "execution_count": 61,
   "metadata": {},
   "outputs": [],
   "source": [
    "DwtnotcycleG = distance_matrix(wtnotcycleG, method='weighted_shortest_path')"
   ]
  },
  {
   "cell_type": "code",
   "execution_count": 62,
   "metadata": {},
   "outputs": [
    {
     "data": {
      "text/plain": [
       "array([[   0.,    9.,   13.,   12.,    4.,    1.],\n",
       "       [1000.,    0.,    4.,   12., 1000., 1000.],\n",
       "       [1000., 1000.,    0.,    8., 1000., 1000.],\n",
       "       [1000., 1000., 1000.,    0., 1000., 1000.],\n",
       "       [1000., 1000., 1000.,    8.,    0., 1000.],\n",
       "       [1000., 1000., 1000.,   11.,    3.,    0.]])"
      ]
     },
     "execution_count": 62,
     "metadata": {},
     "output_type": "execute_result"
    }
   ],
   "source": [
    "DwtnotcycleG"
   ]
  },
  {
   "cell_type": "code",
   "execution_count": 63,
   "metadata": {},
   "outputs": [],
   "source": [
    "wtnotcyclecomplex = DowkerComplex(DwtnotcycleG).create_simplex_tree(filtration='Sublevel', max_dimension=2)"
   ]
  },
  {
   "cell_type": "code",
   "execution_count": 64,
   "metadata": {},
   "outputs": [],
   "source": [
    "dgmwtnotcycle = wtnotcyclecomplex.persistence()"
   ]
  },
  {
   "cell_type": "code",
   "execution_count": 65,
   "metadata": {},
   "outputs": [
    {
     "data": {
      "text/plain": [
       "[(1, (9.0, 12.0)),\n",
       " (0, (0.0, inf)),\n",
       " (0, (0.0, 8.0)),\n",
       " (0, (0.0, 8.0)),\n",
       " (0, (0.0, 4.0)),\n",
       " (0, (0.0, 3.0)),\n",
       " (0, (0.0, 1.0))]"
      ]
     },
     "execution_count": 65,
     "metadata": {},
     "output_type": "execute_result"
    }
   ],
   "source": [
    "dgmwtnotcycle"
   ]
  },
  {
   "cell_type": "code",
   "execution_count": null,
   "metadata": {},
   "outputs": [],
   "source": []
  },
  {
   "cell_type": "code",
   "execution_count": null,
   "metadata": {},
   "outputs": [],
   "source": []
  },
  {
   "cell_type": "code",
   "execution_count": null,
   "metadata": {},
   "outputs": [],
   "source": []
  }
 ],
 "metadata": {
  "kernelspec": {
   "display_name": "Python [conda env:base] *",
   "language": "python",
   "name": "conda-base-py"
  },
  "language_info": {
   "codemirror_mode": {
    "name": "ipython",
    "version": 3
   },
   "file_extension": ".py",
   "mimetype": "text/x-python",
   "name": "python",
   "nbconvert_exporter": "python",
   "pygments_lexer": "ipython3",
   "version": "3.12.2"
  }
 },
 "nbformat": 4,
 "nbformat_minor": 4
}
