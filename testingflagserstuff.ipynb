{
 "cells": [
  {
   "cell_type": "markdown",
   "metadata": {},
   "source": [
    "D is a distance matrix"
   ]
  },
  {
   "cell_type": "code",
   "execution_count": null,
   "metadata": {},
   "outputs": [],
   "source": [
    "from gtda.homology import FlagserPersistence\n",
    "from gtda.diagrams import Filtering"
   ]
  },
  {
   "cell_type": "code",
   "execution_count": null,
   "metadata": {},
   "outputs": [],
   "source": [
    "D[D==-1] = 300"
   ]
  },
  {
   "cell_type": "code",
   "execution_count": null,
   "metadata": {},
   "outputs": [],
   "source": [
    "dist = D.reshape(1, *D.shape)"
   ]
  },
  {
   "cell_type": "code",
   "execution_count": null,
   "metadata": {},
   "outputs": [],
   "source": [
    "flagser_persistence = FlagserPersistence(n_jobs=-1, reduced_homology=False, directed=True, homology_dimensions=[0, 1])"
   ]
  },
  {
   "cell_type": "code",
   "execution_count": null,
   "metadata": {},
   "outputs": [],
   "source": [
    "flagser1 = flagser_persistence.fit_transform(dist)\n"
   ]
  },
  {
   "cell_type": "code",
   "execution_count": null,
   "metadata": {},
   "outputs": [],
   "source": [
    "plot = flagser_persistence.plot(flagser1)\n",
    "plot.show()"
   ]
  },
  {
   "cell_type": "code",
   "execution_count": null,
   "metadata": {},
   "outputs": [],
   "source": [
    "flagser1.shape"
   ]
  },
  {
   "cell_type": "code",
   "execution_count": null,
   "metadata": {},
   "outputs": [],
   "source": [
    "births = flagser1[0,:,0]\n",
    "deaths = flagser1[0,:,1]"
   ]
  },
  {
   "cell_type": "code",
   "execution_count": null,
   "metadata": {},
   "outputs": [],
   "source": [
    "bars = []\n",
    "heights = []\n",
    "\n",
    "for i in range(len(births)):\n",
    "    bars.append(births[i])\n",
    "    heights.append(i+1)\n",
    "    bars.append(deaths[i])\n",
    "    heights.append(i+1)\n",
    "    bars.append(None)\n",
    "    heights.append(None)\n",
    "\n",
    "#bars"
   ]
  },
  {
   "cell_type": "markdown",
   "metadata": {},
   "source": [
    "Okay, turns out you cannot have lines in plotly graph different colors within the same scatter object, so we will have to iterate to make the scatter object"
   ]
  },
  {
   "cell_type": "code",
   "execution_count": null,
   "metadata": {},
   "outputs": [],
   "source": [
    "import plotly.graph_objects as go\n",
    "\n",
    "\n",
    "fig1 = go.Figure(\n",
    "    data=[\n",
    "        go.Scatter(\n",
    "            x = bars,\n",
    "            y = heights,\n",
    "            mode=\"lines\",\n",
    "            showlegend=False,\n",
    "            line=dict(color=[\"black\",\"green\"], width=1),\n",
    "            #marker=dict(\n",
    "                #color=[1,2,3,4,5,6,7],\n",
    "                #symbol=\"arrow\", \n",
    "                #size=16, \n",
    "                #angleref=\"previous\", \n",
    "                #standoff=8\n",
    "            #)\n",
    "        ),\n",
    "    ]\n",
    ")"
   ]
  },
  {
   "cell_type": "code",
   "execution_count": null,
   "metadata": {},
   "outputs": [],
   "source": [
    "fig1.show()"
   ]
  }
 ],
 "metadata": {
  "language_info": {
   "name": "python"
  }
 },
 "nbformat": 4,
 "nbformat_minor": 2
}
